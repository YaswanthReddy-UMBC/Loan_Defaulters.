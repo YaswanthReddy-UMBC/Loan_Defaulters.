{
  "nbformat": 4,
  "nbformat_minor": 0,
  "metadata": {
    "colab": {
      "provenance": []
    },
    "kernelspec": {
      "name": "python3",
      "display_name": "Python 3"
    },
    "language_info": {
      "name": "python"
    }
  },
  "cells": [
    {
      "cell_type": "code",
      "source": [
        "# USUAL SUSPECTS\n",
        "import numpy as np\n",
        "import pandas as pd\n",
        "import matplotlib.pyplot as plt\n",
        "from matplotlib.pyplot import bar\n",
        "import seaborn as sns\n",
        "from scipy.stats import norm\n",
        "# sklearn stuff\n",
        "from sklearn.metrics import r2_score\n",
        "from sklearn.model_selection import train_test_split\n",
        "from sklearn.feature_selection import SelectKBest\n",
        "from sklearn.feature_selection import f_regression\n",
        "from sklearn.linear_model import LinearRegression\n",
        "from sklearn.metrics import mean_absolute_error\n",
        "from sklearn.linear_model import LogisticRegression\n",
        "from sklearn.metrics import confusion_matrix\n",
        "from sklearn.metrics import mean_squared_error"
      ],
      "metadata": {
        "id": "v02jvbGCt9hw"
      },
      "execution_count": 2,
      "outputs": []
    },
    {
      "cell_type": "markdown",
      "source": [
        "The Default data set of the ISLR2 package contains data about ten thousand customers. We know the balance of their bank account, their annual income and whether they are a student. You can download the dataset here: https://github.com/simsekergun/DATA601/blob/main/Datasets/Default.xlsx?raw=true'\n",
        "\n",
        "\n",
        "#\n",
        "Let's replace yes' and no's with 1's and 0's using the factorize() function. Note that factorize() returns two objects: a label array and an array with the unique values. We are only interested in the first object, i.e."
      ],
      "metadata": {
        "id": "kI9eO75tsuFf"
      }
    },
    {
      "cell_type": "markdown",
      "source": [
        "2.1 Plot the histograms of the features in this dataset. What kinds of distributions do you see?<br>\n",
        "2.2 Boxplot 'default vs balance' and 'default vs income'. Which one has outliers?<br>\n",
        "2.3 Split your dataset into two (training 80%, validation (testing) %20, random_state=1). Build a simple logistic regression model to predict default from balance feature only. Create the confusion matric and calculate accuracy, sensitivity, and specificity.<br>\n",
        "2.4 Repeat 2.3 but this time use 'balance', 'income', and 'student' features to predict the default with a multiple logistic regression model. Create the confusion matric and calculate accuracy, sensitivity, and specificity.<br>\n",
        "2.5 What does having a high sensitivity and a low specificity mean?"
      ],
      "metadata": {
        "id": "KqqIC-tis45I"
      }
    },
    {
      "cell_type": "code",
      "execution_count": 1,
      "metadata": {
        "colab": {
          "base_uri": "https://localhost:8080/",
          "height": 222
        },
        "id": "9qIvHv8cspvY",
        "outputId": "cdfecc2d-66a7-4c28-8be7-94b80279c5cf"
      },
      "outputs": [
        {
          "output_type": "error",
          "ename": "NameError",
          "evalue": "ignored",
          "traceback": [
            "\u001b[0;31m---------------------------------------------------------------------------\u001b[0m",
            "\u001b[0;31mNameError\u001b[0m                                 Traceback (most recent call last)",
            "\u001b[0;32m<ipython-input-1-07e02cc20cd7>\u001b[0m in \u001b[0;36m<module>\u001b[0;34m\u001b[0m\n\u001b[0;32m----> 1\u001b[0;31m \u001b[0mdf_2\u001b[0m \u001b[0;34m=\u001b[0m \u001b[0mpd\u001b[0m\u001b[0;34m.\u001b[0m\u001b[0mread_excel\u001b[0m\u001b[0;34m(\u001b[0m\u001b[0;34m'https://github.com/simsekergun/DATA601/blob/main/Datasets/Default.xlsx?raw=true'\u001b[0m\u001b[0;34m,\u001b[0m\u001b[0mindex_col\u001b[0m\u001b[0;34m=\u001b[0m\u001b[0;34m[\u001b[0m\u001b[0;36m0\u001b[0m\u001b[0;34m]\u001b[0m\u001b[0;34m)\u001b[0m\u001b[0;34m\u001b[0m\u001b[0;34m\u001b[0m\u001b[0m\n\u001b[0m\u001b[1;32m      2\u001b[0m \u001b[0mdf_2\u001b[0m\u001b[0;34m[\u001b[0m\u001b[0;34m'default'\u001b[0m\u001b[0;34m]\u001b[0m \u001b[0;34m=\u001b[0m \u001b[0mdf_2\u001b[0m\u001b[0;34m.\u001b[0m\u001b[0mdefault\u001b[0m\u001b[0;34m.\u001b[0m\u001b[0mfactorize\u001b[0m\u001b[0;34m(\u001b[0m\u001b[0;34m)\u001b[0m\u001b[0;34m[\u001b[0m\u001b[0;36m0\u001b[0m\u001b[0;34m]\u001b[0m\u001b[0;34m\u001b[0m\u001b[0;34m\u001b[0m\u001b[0m\n\u001b[1;32m      3\u001b[0m \u001b[0mdf_2\u001b[0m\u001b[0;34m[\u001b[0m\u001b[0;34m'student'\u001b[0m\u001b[0;34m]\u001b[0m \u001b[0;34m=\u001b[0m \u001b[0mdf_2\u001b[0m\u001b[0;34m.\u001b[0m\u001b[0mstudent\u001b[0m\u001b[0;34m.\u001b[0m\u001b[0mfactorize\u001b[0m\u001b[0;34m(\u001b[0m\u001b[0;34m)\u001b[0m\u001b[0;34m[\u001b[0m\u001b[0;36m0\u001b[0m\u001b[0;34m]\u001b[0m\u001b[0;34m\u001b[0m\u001b[0;34m\u001b[0m\u001b[0m\n\u001b[1;32m      4\u001b[0m \u001b[0mdf_2\u001b[0m\u001b[0;34m\u001b[0m\u001b[0;34m\u001b[0m\u001b[0m\n",
            "\u001b[0;31mNameError\u001b[0m: name 'pd' is not defined"
          ]
        }
      ],
      "source": [
        "df_2 = pd.read_excel('https://github.com/simsekergun/DATA601/blob/main/Datasets/Default.xlsx?raw=true',index_col=[0])\n",
        "df_2['default'] = df_2.default.factorize()[0]\n",
        "df_2['student'] = df_2.student.factorize()[0]\n",
        "df_2"
      ]
    },
    {
      "cell_type": "code",
      "source": [
        "#2.1 Plot the histograms of the features in this dataset. What kinds of distributions do you see?\n",
        "sns.displot(df_2[\"default\"], kde=True, bins=20)\n",
        "sns.displot(df_2[\"student\"], kde=True, bins=20)\n",
        "sns.displot(df_2[\"balance\"], kde=True, bins=20)\n",
        "sns.displot(df_2[\"income\"], kde=True, bins=20)\n",
        "plt.show()\n",
        "print(\"For the 'balance' and 'income' data the distribution is normal.\")"
      ],
      "metadata": {
        "id": "C3WVLS1TsuW8"
      },
      "execution_count": null,
      "outputs": []
    },
    {
      "cell_type": "code",
      "source": [
        "#2.2 Boxplot 'default vs balance' and 'default vs income'. Which one has outliers?\n",
        "print(f\"The default vs balance has outliers:\\n\", sns.boxplot(x='default', y='balance', data=df_2))"
      ],
      "metadata": {
        "id": "HmBoXCpztLK6"
      },
      "execution_count": null,
      "outputs": []
    },
    {
      "cell_type": "code",
      "source": [
        "print(f\"The default vs income has no outliers:\\n\", sns.boxplot(x='default', y='income', data=df_2))"
      ],
      "metadata": {
        "id": "ZwuyEteItLIB"
      },
      "execution_count": null,
      "outputs": []
    },
    {
      "cell_type": "code",
      "source": [
        "df_2.corr()"
      ],
      "metadata": {
        "id": "vECGCKCktLFK"
      },
      "execution_count": null,
      "outputs": []
    },
    {
      "cell_type": "code",
      "source": [
        "x = df_2.balance.values\n",
        "y = df_2.default.values\n",
        "\n",
        "plt.scatter(x,y)"
      ],
      "metadata": {
        "id": "s0FnysdItK8E"
      },
      "execution_count": null,
      "outputs": []
    },
    {
      "cell_type": "code",
      "source": [
        "#2.3 Split your dataset into two (training 80%, validation (testing) %20, random_state=1). \n",
        "#Build a simple logistic regression model to predict default from balance feature only. \n",
        "#Create the confusion matric and calculate accuracy, sensitivity, and specificity.\n",
        "\n",
        "x = df_2.balance.values\n",
        "y = df_2.default.values\n",
        "\n",
        "plt.scatter(x,y)"
      ],
      "metadata": {
        "id": "-jdf3zOBtUzS"
      },
      "execution_count": null,
      "outputs": []
    },
    {
      "cell_type": "code",
      "source": [
        "X_train, X_test, y_train, y_test = train_test_split(x, y, test_size=0.2, random_state=1)\n",
        "logreg = LogisticRegression()\n",
        "logreg.fit(X_train.reshape(-1,1), y_train)\n",
        "y_predict = logreg.predict(X_test.reshape(-1,1))\n",
        "logreg.score(X_test.reshape(-1,1) , y_test)"
      ],
      "metadata": {
        "id": "IEVxXLkmtZrh"
      },
      "execution_count": null,
      "outputs": []
    },
    {
      "cell_type": "code",
      "source": [
        "cm1 = confusion_matrix(y_test,y_predict)\n",
        "print('Confusion Matrix : \\n', cm1)\n",
        "total1=sum(sum(cm1))\n",
        "\n",
        "accuracy1=(cm1[0,0]+cm1[1,1])/total1\n",
        "print ('Accuracy : ', accuracy1)\n",
        "\n",
        "sensitivity1 = cm1[0,0]/(cm1[0,0]+cm1[0,1])\n",
        "print('Sensitivity : ', sensitivity1 )\n",
        "\n",
        "specificity1 = cm1[1,1]/(cm1[1,0]+cm1[1,1])\n",
        "print('Specificity : ', specificity1)"
      ],
      "metadata": {
        "id": "0cWjSbN3taP-"
      },
      "execution_count": null,
      "outputs": []
    },
    {
      "cell_type": "code",
      "source": [
        "import sklearn.metrics as metrics\n",
        "fpr, tpr, threshold = metrics.roc_curve(y_test, y_predict)\n",
        "roc_auc = metrics.auc(fpr, tpr)\n",
        "plt.title('Receiver Operating Characteristic')\n",
        "plt.plot(fpr, tpr, 'b', label = 'AUC = %0.2f' % roc_auc)\n",
        "plt.legend(loc = 'lower right')\n",
        "plt.plot([0, 1], [0, 1],'r--')\n",
        "plt.xlim([0, 1])\n",
        "plt.ylim([0, 1])\n",
        "plt.ylabel('True Positive Rate')\n",
        "plt.xlabel('False Positive Rate')\n",
        "plt.show()"
      ],
      "metadata": {
        "id": "tdNYlj_BtaJf"
      },
      "execution_count": null,
      "outputs": []
    },
    {
      "cell_type": "code",
      "source": [
        "#2.4 Repeat 2.3 but this time use 'balance', 'income', and 'student' features to predict the default with a multiple logistic regression model.\n",
        "# Create the confusion matric and calculate accuracy, sensitivity, and specificity.\n",
        "x = df_2.loc[:,['balance','income','student']].values\n",
        "y = df_2.default.values\n",
        "\n",
        "X_train, X_test, y_train, y_test = train_test_split(x, y, test_size=0.2, random_state=1)\n",
        "logreg = LogisticRegression()\n",
        "logreg.fit(X_train, y_train)\n",
        "logreg.score(X_test, y_test)"
      ],
      "metadata": {
        "id": "3MR-r2gEteeZ"
      },
      "execution_count": null,
      "outputs": []
    },
    {
      "cell_type": "code",
      "source": [
        "y_predict = logreg.predict(X_test)\n",
        "cm1 = confusion_matrix(y_test,y_predict)\n",
        "print('Confusion Matrix : \\n', cm1)\n",
        "\n",
        "total1=sum(sum(cm1))\n",
        "#####from confusion matrix calculate accuracy\n",
        "accuracy1=(cm1[0,0]+cm1[1,1])/total1\n",
        "print ('Accuracy : ', accuracy1)\n",
        "\n",
        "sensitivity1 = cm1[0,0]/(cm1[0,0]+cm1[0,1])\n",
        "print('Sensitivity : ', sensitivity1 )\n",
        "\n",
        "specificity1 = cm1[1,1]/(cm1[1,0]+cm1[1,1])\n",
        "print('Specificity : ', specificity1)"
      ],
      "metadata": {
        "id": "fE3EeuPntebq"
      },
      "execution_count": null,
      "outputs": []
    },
    {
      "cell_type": "code",
      "source": [],
      "metadata": {
        "id": "wjAMcOdhtizX"
      },
      "execution_count": null,
      "outputs": []
    },
    {
      "cell_type": "code",
      "source": [],
      "metadata": {
        "id": "HqA02OBTtin6"
      },
      "execution_count": null,
      "outputs": []
    },
    {
      "cell_type": "code",
      "source": [],
      "metadata": {
        "id": "-e3G7YKhteZF"
      },
      "execution_count": null,
      "outputs": []
    }
  ]
}